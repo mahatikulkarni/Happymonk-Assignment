{
  "nbformat": 4,
  "nbformat_minor": 0,
  "metadata": {
    "colab": {
      "name": "Cat_File(Happymonk)",
      "provenance": []
    },
    "kernelspec": {
      "name": "python3",
      "display_name": "Python 3"
    },
    "language_info": {
      "name": "python"
    }
  },
  "cells": [
    {
      "cell_type": "markdown",
      "metadata": {
        "id": "5xjh9bru5IY0"
      },
      "source": [
        "**1. Resize the images to 256x256.**"
      ]
    },
    {
      "cell_type": "code",
      "metadata": {
        "id": "R-jQ0GLJzgLr"
      },
      "source": [
        "from PIL import Image, ImageFilter\n",
        "import glob\n",
        "import torchvision.transforms as transforms"
      ],
      "execution_count": 58,
      "outputs": []
    },
    {
      "cell_type": "code",
      "metadata": {
        "colab": {
          "base_uri": "https://localhost:8080/"
        },
        "id": "hk6E_qBSzmlm",
        "outputId": "e29435b9-9924-490f-e7bc-da79e03c480a"
      },
      "source": [
        "img_path = '/content/drive/MyDrive/Colab/Cat/12.jpeg'\n",
        "\n",
        "im = Image.open(img_path)\n",
        "print('{}'.format(im.format))\n",
        "print('size: {}'.format(im.size))\n",
        "print('image mode {}'.format(im.mode))\n",
        "im.show()"
      ],
      "execution_count": 13,
      "outputs": [
        {
          "output_type": "stream",
          "name": "stdout",
          "text": [
            "JPEG\n",
            "size: (300, 200)\n",
            "image mode RGB\n"
          ]
        }
      ]
    },
    {
      "cell_type": "code",
      "metadata": {
        "id": "bhWwf6th02fg"
      },
      "source": [
        "#Empty list\n",
        "\n",
        "image_list = []\n",
        "resized_images = []"
      ],
      "execution_count": 14,
      "outputs": []
    },
    {
      "cell_type": "code",
      "metadata": {
        "colab": {
          "base_uri": "https://localhost:8080/"
        },
        "id": "wgxD0VlX1FCc",
        "outputId": "41610a48-866e-48eb-892b-946f6da467f5"
      },
      "source": [
        "#Append images to list\n",
        "\n",
        "for filename in glob.glob('/content/drive/MyDrive/Colab/Cat/*.jpeg'):\n",
        "  print(filename)\n",
        "  img = Image.open(filename)\n",
        "  image_list.append(img)"
      ],
      "execution_count": 15,
      "outputs": [
        {
          "output_type": "stream",
          "name": "stdout",
          "text": [
            "/content/drive/MyDrive/Colab/Cat/12.jpeg\n",
            "/content/drive/MyDrive/Colab/Cat/67.jpeg\n",
            "/content/drive/MyDrive/Colab/Cat/34.jpeg\n",
            "/content/drive/MyDrive/Colab/Cat/91.jpeg\n",
            "/content/drive/MyDrive/Colab/Cat/7.jpeg\n",
            "/content/drive/MyDrive/Colab/Cat/51.jpeg\n",
            "/content/drive/MyDrive/Colab/Cat/43.jpeg\n",
            "/content/drive/MyDrive/Colab/Cat/16.jpeg\n",
            "/content/drive/MyDrive/Colab/Cat/78.jpeg\n",
            "/content/drive/MyDrive/Colab/Cat/44.jpeg\n",
            "/content/drive/MyDrive/Colab/Cat/61.jpeg\n",
            "/content/drive/MyDrive/Colab/Cat/2.jpeg\n",
            "/content/drive/MyDrive/Colab/Cat/9.jpeg\n",
            "/content/drive/MyDrive/Colab/Cat/6.jpeg\n",
            "/content/drive/MyDrive/Colab/Cat/50.jpeg\n",
            "/content/drive/MyDrive/Colab/Cat/5.jpeg\n",
            "/content/drive/MyDrive/Colab/Cat/26.jpeg\n",
            "/content/drive/MyDrive/Colab/Cat/93.jpeg\n"
          ]
        }
      ]
    },
    {
      "cell_type": "code",
      "metadata": {
        "id": "qarblXr31qxn"
      },
      "source": [
        "#Append resized images to list\n",
        "\n",
        "for image in image_list:\n",
        "  image.show()\n",
        "  image = image.resize((256,256))\n",
        "  resized_images.append(image)"
      ],
      "execution_count": 16,
      "outputs": []
    },
    {
      "cell_type": "code",
      "metadata": {
        "id": "WtUSFoOc2ZLb"
      },
      "source": [
        "#Save resized images to new folder\n",
        "\n",
        "for (i,new) in enumerate(resized_images):\n",
        "  new.save('{}{}{}'.format('/content/drive/MyDrive/Colab/Cat_new/',i+1,'.png'))"
      ],
      "execution_count": 17,
      "outputs": []
    },
    {
      "cell_type": "code",
      "metadata": {
        "colab": {
          "base_uri": "https://localhost:8080/"
        },
        "id": "i_gfVrZE4JbZ",
        "outputId": "cec3f050-74a3-46be-9540-0cc96b16ef2f"
      },
      "source": [
        "#Check the new size of the images\n",
        "img_path = '/content/drive/MyDrive/Colab/Cat_new/1.png'\n",
        "\n",
        "im = Image.open(img_path)\n",
        "print('{}'.format(im.format))\n",
        "print('size: {}'.format(im.size))\n",
        "print('image mode {}'.format(im.mode))\n",
        "im.show()"
      ],
      "execution_count": 25,
      "outputs": [
        {
          "output_type": "stream",
          "name": "stdout",
          "text": [
            "PNG\n",
            "size: (256, 256)\n",
            "image mode RGB\n"
          ]
        }
      ]
    },
    {
      "cell_type": "markdown",
      "metadata": {
        "id": "N5yCYezj4_Dx"
      },
      "source": [
        "**2. Apply normalization on the images**"
      ]
    },
    {
      "cell_type": "code",
      "metadata": {
        "colab": {
          "base_uri": "https://localhost:8080/"
        },
        "id": "KOnVYo89xOUT",
        "outputId": "0c73e2ce-284f-436a-980d-11f0a39d8e53"
      },
      "source": [
        "import os\n",
        "import numpy as np\n",
        "from PIL import Image\n",
        "\n",
        "\n",
        "if __name__ == '__main__':\n",
        "    filepath = r\"/content/drive/MyDrive/Colab/Cat_new\"  \n",
        "    pathDir = os.listdir(filepath)  \n",
        "    num = len(pathDir) \n",
        "\n",
        "    print(\"Computing mean...\")\n",
        "    data_mean = 0.\n",
        "    for idx in range(len(pathDir)):\n",
        "        filename = pathDir[idx]\n",
        "        img = Image.open(os.path.join(filepath, filename)).convert('L').resize((256, 256))\n",
        "        img = np.array(img) / 255.0\n",
        "        data_mean += np.mean(img)  # Take all the data of the first dimension in the three-dimensional matrix\n",
        "\t\t# As the use of gray images, so calculate a channel on it\n",
        "    data_mean = data_mean / num\n",
        "\n",
        "    print(\"Computing var...\")\n",
        "    data_std = 0.\n",
        "    for idx in range(len(pathDir)):\n",
        "        filename = pathDir[idx]\n",
        "        img = Image.open(os.path.join(filepath, filename)).convert('L').resize((256, 256))\n",
        "        img = np.array(img) / 255.0\n",
        "        data_std += np.std(img)\n",
        "\n",
        "    data_std = data_std / num\n",
        "    print(\"mean:{}\".format(data_mean))\n",
        "    print(\"std:{}\".format(data_std))\n",
        "\n"
      ],
      "execution_count": 64,
      "outputs": [
        {
          "output_type": "stream",
          "name": "stdout",
          "text": [
            "Computing mean...\n",
            "Computing var...\n",
            "mean:0.567498107777182\n",
            "std:0.2063586258646086\n"
          ]
        }
      ]
    },
    {
      "cell_type": "code",
      "metadata": {
        "id": "qpsx8tm50lFk"
      },
      "source": [
        "transform_norm = transforms.Compose([\n",
        "    transforms.ToTensor(),\n",
        "    transforms.Normalize(data_mean, data_std)\n",
        "])"
      ],
      "execution_count": 65,
      "outputs": []
    },
    {
      "cell_type": "code",
      "metadata": {
        "id": "xI4GfnKt2LtI"
      },
      "source": [
        "# get normalized image\n",
        "img_normalized = transform_norm(img)"
      ],
      "execution_count": 66,
      "outputs": []
    },
    {
      "cell_type": "code",
      "metadata": {
        "colab": {
          "base_uri": "https://localhost:8080/"
        },
        "id": "pyo6RwEt2v-p",
        "outputId": "f4949c0f-b88e-465f-aae5-e4ae03e164f1"
      },
      "source": [
        "# get normalized image\n",
        "img_nor = transform_norm(img)\n",
        "  \n",
        "# cailculate mean and std\n",
        "mean, std = img_nor.mean([1,2]), img_nor.std([1,2])\n",
        "  \n",
        "# print mean and std\n",
        "print(\"Mean and Std of normalized image:\")\n",
        "print(\"Mean of the image:\", mean)\n",
        "print(\"Std of the image:\", int(std))"
      ],
      "execution_count": 68,
      "outputs": [
        {
          "output_type": "stream",
          "name": "stdout",
          "text": [
            "Mean and Std of normalized image:\n",
            "Mean of the image: tensor([-0.3842], dtype=torch.float64)\n",
            "Std of the image: 1\n"
          ]
        }
      ]
    },
    {
      "cell_type": "markdown",
      "metadata": {
        "id": "9k3MkhxR-Yhm"
      },
      "source": [
        "**3. Perform Image Augmentation techniques**"
      ]
    },
    {
      "cell_type": "code",
      "metadata": {
        "colab": {
          "base_uri": "https://localhost:8080/"
        },
        "id": "RJu4iqRqlXN1",
        "outputId": "bd0b66ff-88ae-4224-c283-f1720d387135"
      },
      "source": [
        "def main():\n",
        "    # path of the folder containing the raw images\n",
        "    inPath =\"/content/drive/MyDrive/Colab/Cat_new\"\n",
        "  \n",
        "    # path of the folder that will contain the modified image\n",
        "    outPath =\"/content/drive/MyDrive/Colab/Augmented images\"\n",
        "  \n",
        "    for imagePath in os.listdir(inPath):\n",
        "        # imagePath contains name of the image \n",
        "        inputPath = os.path.join(inPath, imagePath)\n",
        "  \n",
        "        # inputPath contains the full directory name\n",
        "        img = Image.open(inputPath)\n",
        "  \n",
        "        fullOutPath = os.path.join(outPath, 'invert_'+imagePath)\n",
        "        # fullOutPath contains the path of the output\n",
        "        # image that needs to be generated\n",
        "        img.rotate(90).save(fullOutPath)\n",
        "        print(fullOutPath)\n",
        "\n",
        "        fullOutPath1 = os.path.join(outPath, 'B&Wr_'+imagePath)\n",
        "        img.convert(mode='L').save(fullOutPath1)\n",
        "        print(fullOutPath1)\n",
        "  \n",
        "# Driver Function\n",
        "if __name__ == '__main__':\n",
        "    main()"
      ],
      "execution_count": 57,
      "outputs": [
        {
          "output_type": "stream",
          "name": "stdout",
          "text": [
            "/content/drive/MyDrive/Colab/Augmented images/invert_1.png\n",
            "/content/drive/MyDrive/Colab/Augmented images/B&Wr_1.png\n",
            "/content/drive/MyDrive/Colab/Augmented images/invert_2.png\n",
            "/content/drive/MyDrive/Colab/Augmented images/B&Wr_2.png\n",
            "/content/drive/MyDrive/Colab/Augmented images/invert_3.png\n",
            "/content/drive/MyDrive/Colab/Augmented images/B&Wr_3.png\n",
            "/content/drive/MyDrive/Colab/Augmented images/invert_4.png\n",
            "/content/drive/MyDrive/Colab/Augmented images/B&Wr_4.png\n",
            "/content/drive/MyDrive/Colab/Augmented images/invert_5.png\n",
            "/content/drive/MyDrive/Colab/Augmented images/B&Wr_5.png\n",
            "/content/drive/MyDrive/Colab/Augmented images/invert_6.png\n",
            "/content/drive/MyDrive/Colab/Augmented images/B&Wr_6.png\n",
            "/content/drive/MyDrive/Colab/Augmented images/invert_7.png\n",
            "/content/drive/MyDrive/Colab/Augmented images/B&Wr_7.png\n",
            "/content/drive/MyDrive/Colab/Augmented images/invert_8.png\n",
            "/content/drive/MyDrive/Colab/Augmented images/B&Wr_8.png\n",
            "/content/drive/MyDrive/Colab/Augmented images/invert_9.png\n",
            "/content/drive/MyDrive/Colab/Augmented images/B&Wr_9.png\n",
            "/content/drive/MyDrive/Colab/Augmented images/invert_10.png\n",
            "/content/drive/MyDrive/Colab/Augmented images/B&Wr_10.png\n",
            "/content/drive/MyDrive/Colab/Augmented images/invert_11.png\n",
            "/content/drive/MyDrive/Colab/Augmented images/B&Wr_11.png\n",
            "/content/drive/MyDrive/Colab/Augmented images/invert_12.png\n",
            "/content/drive/MyDrive/Colab/Augmented images/B&Wr_12.png\n",
            "/content/drive/MyDrive/Colab/Augmented images/invert_13.png\n",
            "/content/drive/MyDrive/Colab/Augmented images/B&Wr_13.png\n",
            "/content/drive/MyDrive/Colab/Augmented images/invert_14.png\n",
            "/content/drive/MyDrive/Colab/Augmented images/B&Wr_14.png\n",
            "/content/drive/MyDrive/Colab/Augmented images/invert_15.png\n",
            "/content/drive/MyDrive/Colab/Augmented images/B&Wr_15.png\n",
            "/content/drive/MyDrive/Colab/Augmented images/invert_16.png\n",
            "/content/drive/MyDrive/Colab/Augmented images/B&Wr_16.png\n",
            "/content/drive/MyDrive/Colab/Augmented images/invert_17.png\n",
            "/content/drive/MyDrive/Colab/Augmented images/B&Wr_17.png\n",
            "/content/drive/MyDrive/Colab/Augmented images/invert_18.png\n",
            "/content/drive/MyDrive/Colab/Augmented images/B&Wr_18.png\n"
          ]
        }
      ]
    }
  ]
}