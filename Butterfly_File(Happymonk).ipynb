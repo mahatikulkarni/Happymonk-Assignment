{
  "nbformat": 4,
  "nbformat_minor": 0,
  "metadata": {
    "colab": {
      "name": "Butterfly_File(Happymonk)",
      "provenance": []
    },
    "kernelspec": {
      "name": "python3",
      "display_name": "Python 3"
    },
    "language_info": {
      "name": "python"
    }
  },
  "cells": [
    {
      "cell_type": "markdown",
      "metadata": {
        "id": "5xjh9bru5IY0"
      },
      "source": [
        "**1. Resize the images to 256x256.**"
      ]
    },
    {
      "cell_type": "code",
      "metadata": {
        "id": "R-jQ0GLJzgLr"
      },
      "source": [
        "from PIL import Image, ImageFilter\n",
        "import glob\n",
        "import torchvision.transforms as transforms"
      ],
      "execution_count": 58,
      "outputs": []
    },
    {
      "cell_type": "code",
      "metadata": {
        "colab": {
          "base_uri": "https://localhost:8080/"
        },
        "id": "hk6E_qBSzmlm",
        "outputId": "aae0c3e7-3234-4c49-af28-9faaf8a961bf"
      },
      "source": [
        "img_path = '/content/drive/MyDrive/Colab/Butterfly/e831b00c2ef3093ed1584d05fb1d4e9fe777ead218ac104497f5c97faee9bdba_640.jpg'\n",
        "\n",
        "im = Image.open(img_path)\n",
        "print('{}'.format(im.format))\n",
        "print('size: {}'.format(im.size))\n",
        "print('image mode {}'.format(im.mode))\n",
        "im.show()"
      ],
      "execution_count": 69,
      "outputs": [
        {
          "output_type": "stream",
          "name": "stdout",
          "text": [
            "JPEG\n",
            "size: (640, 426)\n",
            "image mode RGB\n"
          ]
        }
      ]
    },
    {
      "cell_type": "code",
      "metadata": {
        "id": "bhWwf6th02fg"
      },
      "source": [
        "#Empty list\n",
        "\n",
        "image_list = []\n",
        "resized_images = []"
      ],
      "execution_count": 70,
      "outputs": []
    },
    {
      "cell_type": "code",
      "metadata": {
        "colab": {
          "base_uri": "https://localhost:8080/"
        },
        "id": "wgxD0VlX1FCc",
        "outputId": "3596cca9-ba1d-4174-a133-9485c5e00af3"
      },
      "source": [
        "#Append images to list\n",
        "\n",
        "for filename in glob.glob('/content/drive/MyDrive/Colab/Butterfly/*.jpg'):\n",
        "  print(filename)\n",
        "  img = Image.open(filename)\n",
        "  image_list.append(img)"
      ],
      "execution_count": 71,
      "outputs": [
        {
          "output_type": "stream",
          "name": "stdout",
          "text": [
            "/content/drive/MyDrive/Colab/Butterfly/e832b10a2fe90021d85a5854ee454296eb70e3c818b413449df6c87ca3ed_640.jpg\n",
            "/content/drive/MyDrive/Colab/Butterfly/e831b50f2df71c22d2524518b7444f92e37fe5d404b0144390f8c770a2e9b5_640.jpg\n",
            "/content/drive/MyDrive/Colab/Butterfly/e832b00a2df11c22d2524518b7444f92e37fe5d404b0144390f8c770a2e9b5_640.jpg\n",
            "/content/drive/MyDrive/Colab/Butterfly/e030b20929e90021d85a5854ee454296eb70e3c818b413449df6c87ca3ed_640.jpg\n",
            "/content/drive/MyDrive/Colab/Butterfly/e030b20a20e90021d85a5854ee454296eb70e3c818b413449df6c87ca3ed_640.jpg\n",
            "/content/drive/MyDrive/Colab/Butterfly/e831b00c2ef3093ed1584d05fb1d4e9fe777ead218ac104497f5c97faee9bdba_640.jpg\n",
            "/content/drive/MyDrive/Colab/Butterfly/e132b60e2af51c22d2524518b7444f92e37fe5d404b0144390f8c770a3e5b7_640.jpg\n",
            "/content/drive/MyDrive/Colab/Butterfly/e83cb20721f3093ed1584d05fb1d4e9fe777ead218ac104497f5c97faeebb5bb_640.jpg\n",
            "/content/drive/MyDrive/Colab/Butterfly/e833b00e2ffd053ed1584d05fb1d4e9fe777ead218ac104497f5c97faeebb5bb_640.jpg\n",
            "/content/drive/MyDrive/Colab/Butterfly/e030b20928e90021d85a5854ee454296eb70e3c818b413449df6c87ca3ed_640.jpg\n",
            "/content/drive/MyDrive/Colab/Butterfly/e833b20a2ff0063ed1584d05fb1d4e9fe777ead218ac104497f5c97faee9bdba_640.jpg\n",
            "/content/drive/MyDrive/Colab/Butterfly/e832b60c2ffc1c22d2524518b7444f92e37fe5d404b0144390f8c770a1edb6_640.jpg\n",
            "/content/drive/MyDrive/Colab/Butterfly/e837b3072ef7083ed1584d05fb1d4e9fe777ead218ac104497f5c97faee9bdba_640.jpg\n",
            "/content/drive/MyDrive/Colab/Butterfly/e83cb80e29f11c22d2524518b7444f92e37fe5d404b0144390f8c770a3e5b7_640.jpg\n",
            "/content/drive/MyDrive/Colab/Butterfly/e030b2092ce90021d85a5854ee454296eb70e3c818b413449df6c87ca3ed_640.jpg\n",
            "/content/drive/MyDrive/Colab/Butterfly/e83db20a2de90021d85a5854ee454296eb70e3c818b413449df6c87fa7ee_640.jpg\n",
            "/content/drive/MyDrive/Colab/Butterfly/ea34b10a28f0013ed1584d05fb1d4e9fe777ead218ac104497f5c97faeebb5bb_640.jpg\n",
            "/content/drive/MyDrive/Colab/Butterfly/ea33b50c2afd1c22d2524518b7444f92e37fe5d404b0144390f8c770a2e9b5_640.jpg\n",
            "/content/drive/MyDrive/Colab/Butterfly/ea35b2062bf5033ed1584d05fb1d4e9fe777ead218ac104497f5c97faeebb5bb_640.jpg\n",
            "/content/drive/MyDrive/Colab/Butterfly/ea34b60e21f5043ed1584d05fb1d4e9fe777ead218ac104497f5c97faeebb5bb_640.jpg\n",
            "/content/drive/MyDrive/Colab/Butterfly/ea34b80920f7093ed1584d05fb1d4e9fe777ead218ac104497f5c97faee8b1b8_640.jpg\n",
            "/content/drive/MyDrive/Colab/Butterfly/ea36b00d29f4033ed1584d05fb1d4e9fe777ead218ac104497f5c97faee8b1b8_640.jpg\n",
            "/content/drive/MyDrive/Colab/Butterfly/ea31b30e2ef41c22d2524518b7444f92e37fe5d404b0144390f8c770a2e9b5_640.jpg\n",
            "/content/drive/MyDrive/Colab/Butterfly/ea34b9092bf6063ed1584d05fb1d4e9fe777ead218ac104497f5c97faeebb5bb_640.jpg\n",
            "/content/drive/MyDrive/Colab/Butterfly/ea34b90b28fd093ed1584d05fb1d4e9fe777ead218ac104497f5c97faee8b1b8_640.jpg\n",
            "/content/drive/MyDrive/Colab/Butterfly/ea34b00f2af7083ed1584d05fb1d4e9fe777ead218ac104497f5c97faeebb5bb_640.jpg\n",
            "/content/drive/MyDrive/Colab/Butterfly/ea34b0082bf7043ed1584d05fb1d4e9fe777ead218ac104497f5c97faeebb5bb_640.jpg\n",
            "/content/drive/MyDrive/Colab/Butterfly/e83db70d28f51c22d2524518b7444f92e37fe5d404b0144390f8c770a2e9b5_640.jpg\n",
            "/content/drive/MyDrive/Colab/Butterfly/ea34b70a20fd083ed1584d05fb1d4e9fe777ead218ac104497f5c97faee8b1b8_640.jpg\n",
            "/content/drive/MyDrive/Colab/Butterfly/ea35b50e2bf6033ed1584d05fb1d4e9fe777ead218ac104497f5c97faee8b1b8_640.jpg\n"
          ]
        }
      ]
    },
    {
      "cell_type": "code",
      "metadata": {
        "id": "qarblXr31qxn"
      },
      "source": [
        "#Append resized images to list\n",
        "\n",
        "for image in image_list:\n",
        "  image.show()\n",
        "  image = image.resize((256,256))\n",
        "  resized_images.append(image)"
      ],
      "execution_count": 72,
      "outputs": []
    },
    {
      "cell_type": "code",
      "metadata": {
        "id": "WtUSFoOc2ZLb"
      },
      "source": [
        "#Save resized images to new folder\n",
        "\n",
        "for (i,new) in enumerate(resized_images):\n",
        "  new.save('{}{}{}'.format('/content/drive/MyDrive/Colab/Butterfly_New/',i+1,'.png'))"
      ],
      "execution_count": 73,
      "outputs": []
    },
    {
      "cell_type": "code",
      "metadata": {
        "colab": {
          "base_uri": "https://localhost:8080/"
        },
        "id": "i_gfVrZE4JbZ",
        "outputId": "e034c68b-4cf1-433b-8e89-a7155e2dbd1c"
      },
      "source": [
        "#Check the new size of the images\n",
        "img_path = '/content/drive/MyDrive/Colab/Butterfly_New/13.png'\n",
        "\n",
        "im = Image.open(img_path)\n",
        "print('{}'.format(im.format))\n",
        "print('size: {}'.format(im.size))\n",
        "print('image mode {}'.format(im.mode))\n",
        "im.show()"
      ],
      "execution_count": 74,
      "outputs": [
        {
          "output_type": "stream",
          "name": "stdout",
          "text": [
            "PNG\n",
            "size: (256, 256)\n",
            "image mode RGB\n"
          ]
        }
      ]
    },
    {
      "cell_type": "markdown",
      "metadata": {
        "id": "N5yCYezj4_Dx"
      },
      "source": [
        "**2. Apply normalization on the images**"
      ]
    },
    {
      "cell_type": "code",
      "metadata": {
        "colab": {
          "base_uri": "https://localhost:8080/"
        },
        "id": "KOnVYo89xOUT",
        "outputId": "023ea658-6e2e-43c3-fb53-a445ee1d88b4"
      },
      "source": [
        "import os\n",
        "import numpy as np\n",
        "from PIL import Image\n",
        "\n",
        "\n",
        "if __name__ == '__main__':\n",
        "    filepath = r\"/content/drive/MyDrive/Colab/Butterfly_New/\"  \n",
        "    pathDir = os.listdir(filepath)  \n",
        "    num = len(pathDir) \n",
        "\n",
        "    print(\"Computing mean...\")\n",
        "    data_mean = 0.\n",
        "    for idx in range(len(pathDir)):\n",
        "        filename = pathDir[idx]\n",
        "        img = Image.open(os.path.join(filepath, filename)).convert('L').resize((256, 256))\n",
        "        img = np.array(img) / 255.0\n",
        "        data_mean += np.mean(img)  # Take all the data of the first dimension in the three-dimensional matrix\n",
        "\t\t# As the use of gray images, so calculate a channel on it\n",
        "    data_mean = data_mean / num\n",
        "\n",
        "    print(\"Computing var...\")\n",
        "    data_std = 0.\n",
        "    for idx in range(len(pathDir)):\n",
        "        filename = pathDir[idx]\n",
        "        img = Image.open(os.path.join(filepath, filename)).convert('L').resize((256, 256))\n",
        "        img = np.array(img) / 255.0\n",
        "        data_std += np.std(img)\n",
        "\n",
        "    data_std = data_std / num\n",
        "    print(\"mean:{}\".format(data_mean))\n",
        "    print(\"std:{}\".format(data_std))\n",
        "\n"
      ],
      "execution_count": 75,
      "outputs": [
        {
          "output_type": "stream",
          "name": "stdout",
          "text": [
            "Computing mean...\n",
            "Computing var...\n",
            "mean:0.43834399254493456\n",
            "std:0.18341118687985067\n"
          ]
        }
      ]
    },
    {
      "cell_type": "code",
      "metadata": {
        "id": "qpsx8tm50lFk"
      },
      "source": [
        "transform_norm = transforms.Compose([\n",
        "    transforms.ToTensor(),\n",
        "    transforms.Normalize(data_mean, data_std)\n",
        "])"
      ],
      "execution_count": 76,
      "outputs": []
    },
    {
      "cell_type": "code",
      "metadata": {
        "id": "xI4GfnKt2LtI"
      },
      "source": [
        "# get normalized image\n",
        "img_normalized = transform_norm(img)"
      ],
      "execution_count": 77,
      "outputs": []
    },
    {
      "cell_type": "code",
      "metadata": {
        "colab": {
          "base_uri": "https://localhost:8080/"
        },
        "id": "pyo6RwEt2v-p",
        "outputId": "e8acc893-6970-4d86-d9ae-27ac952dbc50"
      },
      "source": [
        "# get normalized image\n",
        "img_nor = transform_norm(img)\n",
        "  \n",
        "# cailculate mean and std\n",
        "mean, std = img_nor.mean([1,2]), img_nor.std([1,2])\n",
        "  \n",
        "# print mean and std\n",
        "print(\"Mean and Std of normalized image:\")\n",
        "print(\"Mean of the image:\", mean)\n",
        "print(\"Std of the image:\", int(std))"
      ],
      "execution_count": 78,
      "outputs": [
        {
          "output_type": "stream",
          "name": "stdout",
          "text": [
            "Mean and Std of normalized image:\n",
            "Mean of the image: tensor([-1.3296], dtype=torch.float64)\n",
            "Std of the image: 1\n"
          ]
        }
      ]
    },
    {
      "cell_type": "markdown",
      "metadata": {
        "id": "9k3MkhxR-Yhm"
      },
      "source": [
        "**3. Perform Image Augmentation techniques**"
      ]
    },
    {
      "cell_type": "code",
      "metadata": {
        "colab": {
          "base_uri": "https://localhost:8080/"
        },
        "id": "RJu4iqRqlXN1",
        "outputId": "d55eb2b3-c330-4667-a500-c523cb90129b"
      },
      "source": [
        "def main():\n",
        "    # path of the folder containing the raw images\n",
        "    inPath =\"/content/drive/MyDrive/Colab/Butterfly_New\"\n",
        "  \n",
        "    # path of the folder that will contain the modified image\n",
        "    outPath =\"/content/drive/MyDrive/Colab/Augmented images/Butterfly Augmented\"\n",
        "  \n",
        "    for imagePath in os.listdir(inPath):\n",
        "        # imagePath contains name of the image \n",
        "        inputPath = os.path.join(inPath, imagePath)\n",
        "  \n",
        "        # inputPath contains the full directory name\n",
        "        img = Image.open(inputPath)\n",
        "  \n",
        "        fullOutPath = os.path.join(outPath, 'invert_'+imagePath)\n",
        "        # fullOutPath contains the path of the output\n",
        "        # image that needs to be generated\n",
        "        img.rotate(90).save(fullOutPath)\n",
        "        print(fullOutPath)\n",
        "\n",
        "        fullOutPath1 = os.path.join(outPath, 'B&Wr_'+imagePath)\n",
        "        img.convert(mode='L').save(fullOutPath1)\n",
        "        print(fullOutPath1)\n",
        "  \n",
        "# Driver Function\n",
        "if __name__ == '__main__':\n",
        "    main()"
      ],
      "execution_count": 79,
      "outputs": [
        {
          "output_type": "stream",
          "name": "stdout",
          "text": [
            "/content/drive/MyDrive/Colab/Augmented images/Butterfly Augmented/invert_1.png\n",
            "/content/drive/MyDrive/Colab/Augmented images/Butterfly Augmented/B&Wr_1.png\n",
            "/content/drive/MyDrive/Colab/Augmented images/Butterfly Augmented/invert_2.png\n",
            "/content/drive/MyDrive/Colab/Augmented images/Butterfly Augmented/B&Wr_2.png\n",
            "/content/drive/MyDrive/Colab/Augmented images/Butterfly Augmented/invert_3.png\n",
            "/content/drive/MyDrive/Colab/Augmented images/Butterfly Augmented/B&Wr_3.png\n",
            "/content/drive/MyDrive/Colab/Augmented images/Butterfly Augmented/invert_4.png\n",
            "/content/drive/MyDrive/Colab/Augmented images/Butterfly Augmented/B&Wr_4.png\n",
            "/content/drive/MyDrive/Colab/Augmented images/Butterfly Augmented/invert_5.png\n",
            "/content/drive/MyDrive/Colab/Augmented images/Butterfly Augmented/B&Wr_5.png\n",
            "/content/drive/MyDrive/Colab/Augmented images/Butterfly Augmented/invert_6.png\n",
            "/content/drive/MyDrive/Colab/Augmented images/Butterfly Augmented/B&Wr_6.png\n",
            "/content/drive/MyDrive/Colab/Augmented images/Butterfly Augmented/invert_7.png\n",
            "/content/drive/MyDrive/Colab/Augmented images/Butterfly Augmented/B&Wr_7.png\n",
            "/content/drive/MyDrive/Colab/Augmented images/Butterfly Augmented/invert_8.png\n",
            "/content/drive/MyDrive/Colab/Augmented images/Butterfly Augmented/B&Wr_8.png\n",
            "/content/drive/MyDrive/Colab/Augmented images/Butterfly Augmented/invert_9.png\n",
            "/content/drive/MyDrive/Colab/Augmented images/Butterfly Augmented/B&Wr_9.png\n",
            "/content/drive/MyDrive/Colab/Augmented images/Butterfly Augmented/invert_10.png\n",
            "/content/drive/MyDrive/Colab/Augmented images/Butterfly Augmented/B&Wr_10.png\n",
            "/content/drive/MyDrive/Colab/Augmented images/Butterfly Augmented/invert_11.png\n",
            "/content/drive/MyDrive/Colab/Augmented images/Butterfly Augmented/B&Wr_11.png\n",
            "/content/drive/MyDrive/Colab/Augmented images/Butterfly Augmented/invert_12.png\n",
            "/content/drive/MyDrive/Colab/Augmented images/Butterfly Augmented/B&Wr_12.png\n",
            "/content/drive/MyDrive/Colab/Augmented images/Butterfly Augmented/invert_13.png\n",
            "/content/drive/MyDrive/Colab/Augmented images/Butterfly Augmented/B&Wr_13.png\n",
            "/content/drive/MyDrive/Colab/Augmented images/Butterfly Augmented/invert_14.png\n",
            "/content/drive/MyDrive/Colab/Augmented images/Butterfly Augmented/B&Wr_14.png\n",
            "/content/drive/MyDrive/Colab/Augmented images/Butterfly Augmented/invert_15.png\n",
            "/content/drive/MyDrive/Colab/Augmented images/Butterfly Augmented/B&Wr_15.png\n",
            "/content/drive/MyDrive/Colab/Augmented images/Butterfly Augmented/invert_16.png\n",
            "/content/drive/MyDrive/Colab/Augmented images/Butterfly Augmented/B&Wr_16.png\n",
            "/content/drive/MyDrive/Colab/Augmented images/Butterfly Augmented/invert_17.png\n",
            "/content/drive/MyDrive/Colab/Augmented images/Butterfly Augmented/B&Wr_17.png\n",
            "/content/drive/MyDrive/Colab/Augmented images/Butterfly Augmented/invert_18.png\n",
            "/content/drive/MyDrive/Colab/Augmented images/Butterfly Augmented/B&Wr_18.png\n",
            "/content/drive/MyDrive/Colab/Augmented images/Butterfly Augmented/invert_19.png\n",
            "/content/drive/MyDrive/Colab/Augmented images/Butterfly Augmented/B&Wr_19.png\n",
            "/content/drive/MyDrive/Colab/Augmented images/Butterfly Augmented/invert_20.png\n",
            "/content/drive/MyDrive/Colab/Augmented images/Butterfly Augmented/B&Wr_20.png\n",
            "/content/drive/MyDrive/Colab/Augmented images/Butterfly Augmented/invert_21.png\n",
            "/content/drive/MyDrive/Colab/Augmented images/Butterfly Augmented/B&Wr_21.png\n",
            "/content/drive/MyDrive/Colab/Augmented images/Butterfly Augmented/invert_22.png\n",
            "/content/drive/MyDrive/Colab/Augmented images/Butterfly Augmented/B&Wr_22.png\n",
            "/content/drive/MyDrive/Colab/Augmented images/Butterfly Augmented/invert_23.png\n",
            "/content/drive/MyDrive/Colab/Augmented images/Butterfly Augmented/B&Wr_23.png\n",
            "/content/drive/MyDrive/Colab/Augmented images/Butterfly Augmented/invert_24.png\n",
            "/content/drive/MyDrive/Colab/Augmented images/Butterfly Augmented/B&Wr_24.png\n",
            "/content/drive/MyDrive/Colab/Augmented images/Butterfly Augmented/invert_25.png\n",
            "/content/drive/MyDrive/Colab/Augmented images/Butterfly Augmented/B&Wr_25.png\n",
            "/content/drive/MyDrive/Colab/Augmented images/Butterfly Augmented/invert_26.png\n",
            "/content/drive/MyDrive/Colab/Augmented images/Butterfly Augmented/B&Wr_26.png\n",
            "/content/drive/MyDrive/Colab/Augmented images/Butterfly Augmented/invert_27.png\n",
            "/content/drive/MyDrive/Colab/Augmented images/Butterfly Augmented/B&Wr_27.png\n",
            "/content/drive/MyDrive/Colab/Augmented images/Butterfly Augmented/invert_28.png\n",
            "/content/drive/MyDrive/Colab/Augmented images/Butterfly Augmented/B&Wr_28.png\n",
            "/content/drive/MyDrive/Colab/Augmented images/Butterfly Augmented/invert_29.png\n",
            "/content/drive/MyDrive/Colab/Augmented images/Butterfly Augmented/B&Wr_29.png\n",
            "/content/drive/MyDrive/Colab/Augmented images/Butterfly Augmented/invert_30.png\n",
            "/content/drive/MyDrive/Colab/Augmented images/Butterfly Augmented/B&Wr_30.png\n"
          ]
        }
      ]
    }
  ]
}