{
  "nbformat": 4,
  "nbformat_minor": 0,
  "metadata": {
    "colab": {
      "name": "Untitled2.ipynb",
      "provenance": [],
      "collapsed_sections": []
    },
    "kernelspec": {
      "name": "python3",
      "display_name": "Python 3"
    },
    "language_info": {
      "name": "python"
    }
  },
  "cells": [
    {
      "cell_type": "code",
      "metadata": {
        "id": "x5U64il_8LNM"
      },
      "source": [
        "import keras \n",
        "import pandas as pd \n",
        "import numpy as np \n",
        "from sklearn.preprocessing import normalize"
      ],
      "execution_count": null,
      "outputs": []
    },
    {
      "cell_type": "code",
      "metadata": {
        "id": "ejOpxsiu8fnu"
      },
      "source": [
        "data=pd.read_csv(\"/content/drive/MyDrive/Colab/Iris.csv\")"
      ],
      "execution_count": null,
      "outputs": []
    },
    {
      "cell_type": "code",
      "metadata": {
        "colab": {
          "base_uri": "https://localhost:8080/"
        },
        "id": "sWUTl3sK8s1Q",
        "outputId": "335673aa-c128-42d6-97dd-a62d9a1e0f33"
      },
      "source": [
        "#Coding below convert the species into each respective category to be feed into the neural network\n",
        "\n",
        "print(data[\"Species\"].unique())"
      ],
      "execution_count": null,
      "outputs": [
        {
          "output_type": "stream",
          "name": "stdout",
          "text": [
            "['Iris-setosa' 'Iris-versicolor' 'Iris-virginica']\n"
          ]
        }
      ]
    },
    {
      "cell_type": "code",
      "metadata": {
        "colab": {
          "base_uri": "https://localhost:8080/"
        },
        "id": "BHYWHzqH852K",
        "outputId": "fb3f5f1a-dc2c-404b-a7b0-0aa56026d5f7"
      },
      "source": [
        "data.loc[data[\"Species\"]==\"Iris-setosa\",\"Species\"]=0\n",
        "data.loc[data[\"Species\"]==\"Iris-versicolor\",\"Species\"]=1\n",
        "data.loc[data[\"Species\"]==\"Iris-virginica\",\"Species\"]=2\n",
        "print(data.head())"
      ],
      "execution_count": null,
      "outputs": [
        {
          "output_type": "stream",
          "name": "stdout",
          "text": [
            "   Id  SepalLengthCm  SepalWidthCm  PetalLengthCm  PetalWidthCm Species\n",
            "0   1            5.1           3.5            1.4           0.2       0\n",
            "1   2            4.9           3.0            1.4           0.2       0\n",
            "2   3            4.7           3.2            1.3           0.2       0\n",
            "3   4            4.6           3.1            1.5           0.2       0\n",
            "4   5            5.0           3.6            1.4           0.2       0\n"
          ]
        }
      ]
    },
    {
      "cell_type": "code",
      "metadata": {
        "colab": {
          "base_uri": "https://localhost:8080/"
        },
        "id": "P0TuBbsu89a-",
        "outputId": "6b81b075-22e0-40f5-8d9a-9750569f2e97"
      },
      "source": [
        "data=data.iloc[np.random.permutation(len(data))]\n",
        "print(data.head())"
      ],
      "execution_count": null,
      "outputs": [
        {
          "output_type": "stream",
          "name": "stdout",
          "text": [
            "      Id  SepalLengthCm  SepalWidthCm  PetalLengthCm  PetalWidthCm Species\n",
            "39    40            5.1           3.4            1.5           0.2       0\n",
            "7      8            5.0           3.4            1.5           0.2       0\n",
            "33    34            5.5           4.2            1.4           0.2       0\n",
            "128  129            6.4           2.8            5.6           2.1       2\n",
            "97    98            6.2           2.9            4.3           1.3       1\n"
          ]
        }
      ]
    },
    {
      "cell_type": "code",
      "metadata": {
        "id": "XlJikIqS9EAo"
      },
      "source": [
        "#Converting data to numpy array in order for processing\n",
        "\n",
        "X=data.iloc[:,1:5].values\n",
        "y=data.iloc[:,5].values\n"
      ],
      "execution_count": null,
      "outputs": []
    },
    {
      "cell_type": "code",
      "metadata": {
        "id": "GmpEXpc49M6q"
      },
      "source": [
        "#Normalization\n",
        "\n",
        "X_normalized=normalize(X,axis=0)"
      ],
      "execution_count": null,
      "outputs": []
    },
    {
      "cell_type": "code",
      "metadata": {
        "id": "GSKxzS5s9WJi"
      },
      "source": [
        "total_length=len(data)\n",
        "train_length=int(0.8*total_length)\n",
        "test_length=int(0.2*total_length)\n",
        "\n",
        "X_train=X_normalized[:train_length]\n",
        "X_test=X_normalized[train_length:]\n",
        "y_train=y[:train_length]\n",
        "y_test=y[train_length:]"
      ],
      "execution_count": null,
      "outputs": []
    },
    {
      "cell_type": "code",
      "metadata": {
        "id": "66j_oM1n9eEb"
      },
      "source": [
        "#Neural network module\n",
        "from keras.models import Sequential \n",
        "from keras.layers import Dense,Activation,Dropout \n",
        "from tensorflow.keras.layers import BatchNormalization\n",
        "from keras.utils import np_utils"
      ],
      "execution_count": null,
      "outputs": []
    },
    {
      "cell_type": "code",
      "metadata": {
        "id": "9Ax_uTMR96de"
      },
      "source": [
        "y_train=np_utils.to_categorical(y_train,num_classes=3)\n",
        "y_test=np_utils.to_categorical(y_test,num_classes=3)"
      ],
      "execution_count": null,
      "outputs": []
    },
    {
      "cell_type": "code",
      "metadata": {
        "id": "n6Sc_jma9-K5"
      },
      "source": [
        "model=Sequential()\n",
        "model.add(Dense(1000,input_dim=4,activation='relu'))\n",
        "model.add(Dense(500,activation='relu'))\n",
        "model.add(Dense(300,activation='relu'))\n",
        "model.add(Dropout(0.2))\n",
        "model.add(Dense(3,activation='softmax'))\n",
        "model.compile(loss='categorical_crossentropy',optimizer='adam',metrics=['accuracy'])"
      ],
      "execution_count": null,
      "outputs": []
    },
    {
      "cell_type": "code",
      "metadata": {
        "colab": {
          "base_uri": "https://localhost:8080/"
        },
        "id": "BHFtMGEs-C1r",
        "outputId": "1493dc88-7005-4026-d7ed-3a9b860b7756"
      },
      "source": [
        "model.summary()"
      ],
      "execution_count": null,
      "outputs": [
        {
          "output_type": "stream",
          "name": "stdout",
          "text": [
            "Model: \"sequential\"\n",
            "_________________________________________________________________\n",
            "Layer (type)                 Output Shape              Param #   \n",
            "=================================================================\n",
            "dense (Dense)                (None, 1000)              5000      \n",
            "_________________________________________________________________\n",
            "dense_1 (Dense)              (None, 500)               500500    \n",
            "_________________________________________________________________\n",
            "dense_2 (Dense)              (None, 300)               150300    \n",
            "_________________________________________________________________\n",
            "dropout (Dropout)            (None, 300)               0         \n",
            "_________________________________________________________________\n",
            "dense_3 (Dense)              (None, 3)                 903       \n",
            "=================================================================\n",
            "Total params: 656,703\n",
            "Trainable params: 656,703\n",
            "Non-trainable params: 0\n",
            "_________________________________________________________________\n"
          ]
        }
      ]
    },
    {
      "cell_type": "code",
      "metadata": {
        "colab": {
          "base_uri": "https://localhost:8080/"
        },
        "id": "sfve3Qmy-GLr",
        "outputId": "b3a3e886-f30e-4248-8aef-08862dd539c4"
      },
      "source": [
        "model.fit(X_train,y_train,validation_data=(X_test,y_test),batch_size=20,epochs=10,verbose=1)"
      ],
      "execution_count": null,
      "outputs": [
        {
          "output_type": "stream",
          "name": "stdout",
          "text": [
            "Epoch 1/10\n",
            "6/6 [==============================] - 1s 41ms/step - loss: 1.0803 - accuracy: 0.3917 - val_loss: 1.0678 - val_accuracy: 0.2667\n",
            "Epoch 2/10\n",
            "6/6 [==============================] - 0s 10ms/step - loss: 1.0083 - accuracy: 0.5917 - val_loss: 0.9769 - val_accuracy: 0.6333\n",
            "Epoch 3/10\n",
            "6/6 [==============================] - 0s 10ms/step - loss: 0.8759 - accuracy: 0.6750 - val_loss: 0.8246 - val_accuracy: 0.6333\n",
            "Epoch 4/10\n",
            "6/6 [==============================] - 0s 9ms/step - loss: 0.7042 - accuracy: 0.6750 - val_loss: 0.6066 - val_accuracy: 0.6333\n",
            "Epoch 5/10\n",
            "6/6 [==============================] - 0s 10ms/step - loss: 0.5088 - accuracy: 0.8000 - val_loss: 0.3939 - val_accuracy: 1.0000\n",
            "Epoch 6/10\n",
            "6/6 [==============================] - 0s 10ms/step - loss: 0.3866 - accuracy: 0.9167 - val_loss: 0.3514 - val_accuracy: 0.8667\n",
            "Epoch 7/10\n",
            "6/6 [==============================] - 0s 10ms/step - loss: 0.3045 - accuracy: 0.9167 - val_loss: 0.1872 - val_accuracy: 1.0000\n",
            "Epoch 8/10\n",
            "6/6 [==============================] - 0s 10ms/step - loss: 0.2585 - accuracy: 0.9083 - val_loss: 0.1407 - val_accuracy: 1.0000\n",
            "Epoch 9/10\n",
            "6/6 [==============================] - 0s 9ms/step - loss: 0.2008 - accuracy: 0.9417 - val_loss: 0.1073 - val_accuracy: 1.0000\n",
            "Epoch 10/10\n",
            "6/6 [==============================] - 0s 9ms/step - loss: 0.1853 - accuracy: 0.9500 - val_loss: 0.1979 - val_accuracy: 0.8667\n"
          ]
        },
        {
          "output_type": "execute_result",
          "data": {
            "text/plain": [
              "<keras.callbacks.History at 0x7f6aa0e00350>"
            ]
          },
          "metadata": {},
          "execution_count": 14
        }
      ]
    },
    {
      "cell_type": "code",
      "metadata": {
        "id": "P3nFX1RO-Mm6"
      },
      "source": [
        "prediction=model.predict(X_test)\n",
        "y_test_class  = np.argmax(y_test, axis =1)\n",
        "y_pred_class = np.argmax(prediction, axis =1)\n",
        "\n"
      ],
      "execution_count": 18,
      "outputs": []
    },
    {
      "cell_type": "code",
      "metadata": {
        "colab": {
          "base_uri": "https://localhost:8080/"
        },
        "id": "evIsXtDmFc-e",
        "outputId": "65accc13-353d-4aee-c86b-5f10e9a7474e"
      },
      "source": [
        "from sklearn.metrics import classification_report, confusion_matrix\n",
        "\n",
        "print(classification_report(y_test_class,y_pred_class))\n",
        "print(confusion_matrix(y_test_class,y_pred_class))"
      ],
      "execution_count": 20,
      "outputs": [
        {
          "output_type": "stream",
          "name": "stdout",
          "text": [
            "              precision    recall  f1-score   support\n",
            "\n",
            "           0       1.00      1.00      1.00        12\n",
            "           1       1.00      0.64      0.78        11\n",
            "           2       0.64      1.00      0.78         7\n",
            "\n",
            "    accuracy                           0.87        30\n",
            "   macro avg       0.88      0.88      0.85        30\n",
            "weighted avg       0.92      0.87      0.87        30\n",
            "\n",
            "[[12  0  0]\n",
            " [ 0  7  4]\n",
            " [ 0  0  7]]\n"
          ]
        }
      ]
    }
  ]
}